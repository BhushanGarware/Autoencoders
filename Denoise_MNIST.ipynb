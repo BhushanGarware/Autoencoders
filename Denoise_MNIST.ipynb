{
 "cells": [
  {
   "cell_type": "markdown",
   "id": "a24ee4e9-e4c4-42cd-b9f3-5244d5b3c6c3",
   "metadata": {},
   "source": [
    "# Image Denosing : Autoencoder \n",
    "Notebook adapted from Sreenivas Bhattiprolu, [Python for Microscopists](https://github.com/bnsreenu/python_for_microscopists)"
   ]
  },
  {
   "cell_type": "code",
   "execution_count": null,
   "id": "aafcae16-8bfb-45a8-8e5d-d666fe42c485",
   "metadata": {
    "tags": []
   },
   "outputs": [],
   "source": [
    "from tensorflow.keras.datasets import mnist\n",
    "from tensorflow.keras.layers import Conv2D, MaxPooling2D, UpSampling2D\n",
    "from tensorflow.keras.models import Sequential\n",
    "import numpy as np\n",
    "import matplotlib.pyplot as plt"
   ]
  },
  {
   "cell_type": "code",
   "execution_count": null,
   "id": "07fb2d66-d0bb-4eac-a152-5fec4ed0c15a",
   "metadata": {
    "tags": []
   },
   "outputs": [],
   "source": [
    "(x_train, _), (x_test, _) = mnist.load_data()"
   ]
  },
  {
   "cell_type": "code",
   "execution_count": null,
   "id": "c2735022-5484-4e3a-afad-ce5fd5a25f43",
   "metadata": {
    "tags": []
   },
   "outputs": [],
   "source": [
    "x_train.shape"
   ]
  },
  {
   "cell_type": "code",
   "execution_count": null,
   "id": "b33a976f-1f57-49ed-9906-cd0d5cad636b",
   "metadata": {
    "tags": []
   },
   "outputs": [],
   "source": [
    "x_train = x_train.astype('float32') / 255.\n",
    "x_test = x_test.astype('float32') / 255.\n",
    "x_train = np.reshape(x_train, (len(x_train), 28, 28, 1))\n",
    "x_test = np.reshape(x_test, (len(x_test), 28, 28, 1))"
   ]
  },
  {
   "cell_type": "code",
   "execution_count": null,
   "id": "fcd5f8a8-bdb8-4229-83ee-cb62cb5b6f1a",
   "metadata": {
    "tags": []
   },
   "outputs": [],
   "source": [
    "#adding some noise\n",
    "noise_factor = 0.5\n",
    "x_train_noisy = x_train + noise_factor * np.random.normal(loc=0.0, scale=1.0, size=x_train.shape) \n",
    "x_test_noisy = x_test + noise_factor * np.random.normal(loc=0.0, scale=1.0, size=x_test.shape) \n",
    "\n",
    "x_train_noisy = np.clip(x_train_noisy, 0., 1.)\n",
    "x_test_noisy = np.clip(x_test_noisy, 0., 1.)"
   ]
  },
  {
   "cell_type": "code",
   "execution_count": null,
   "id": "4b2f79ce-21bf-49fd-b69f-c729a9d724e0",
   "metadata": {
    "tags": []
   },
   "outputs": [],
   "source": [
    "#Displaying images\n",
    "plt.figure(figsize=(20, 2))\n",
    "for i in range(1,10):\n",
    "    ax = plt.subplot(1, 10, i)\n",
    "    plt.imshow(x_test[i].reshape(28, 28), cmap=\"binary\")\n",
    "plt.show()\n",
    "\n",
    "#Displaying images with noise\n",
    "plt.figure(figsize=(20, 2))\n",
    "for i in range(1,10):\n",
    "    ax = plt.subplot(1, 10, i)\n",
    "    plt.imshow(x_test_noisy[i].reshape(28, 28), cmap=\"binary\")\n",
    "plt.show()\n",
    "\n"
   ]
  },
  {
   "cell_type": "markdown",
   "id": "64a6d90e-abfd-4f3f-9adf-d4c12eb2dc79",
   "metadata": {},
   "source": [
    "# Define Model"
   ]
  },
  {
   "cell_type": "code",
   "execution_count": null,
   "id": "c766c0b7-2a8a-47d7-9c71-78807b199f10",
   "metadata": {
    "tags": []
   },
   "outputs": [],
   "source": [
    "model = Sequential()\n",
    "model.add(Conv2D(32, (3, 3), activation='relu', padding='same', input_shape=(28, 28, 1)))\n",
    "model.add(MaxPooling2D((2, 2), padding='same'))\n",
    "model.add(Conv2D(8, (3, 3), activation='relu', padding='same'))\n",
    "model.add(MaxPooling2D((2, 2), padding='same'))\n",
    "model.add(Conv2D(8, (3, 3), activation='relu', padding='same'))\n",
    " \n",
    "\n",
    "model.add(MaxPooling2D((2, 2), padding='same'))\n",
    " \n",
    "model.add(Conv2D(8, (3, 3), activation='relu', padding='same'))\n",
    "model.add(UpSampling2D((2, 2)))\n",
    "model.add(Conv2D(8, (3, 3), activation='relu', padding='same'))\n",
    "model.add(UpSampling2D((2, 2)))\n",
    "model.add(Conv2D(32, (3, 3), activation='relu'))\n",
    "model.add(UpSampling2D((2, 2)))\n",
    "model.add(Conv2D(1, (3, 3), activation='relu', padding='same'))\n",
    "\n",
    "model.compile(optimizer='adam', loss='mean_squared_error')\n",
    "\n",
    "model.summary()"
   ]
  },
  {
   "cell_type": "markdown",
   "id": "6a43d5ab-6820-412c-9531-3c2453d5bcb3",
   "metadata": {},
   "source": [
    "# Train Model"
   ]
  },
  {
   "cell_type": "code",
   "execution_count": null,
   "id": "2c660426-dc82-4d5a-a5ca-3cc47df259d4",
   "metadata": {
    "tags": []
   },
   "outputs": [],
   "source": [
    "model.fit(x_train_noisy, x_train, epochs=10, batch_size=256, shuffle=True, \n",
    "          validation_data=(x_test_noisy, x_test))"
   ]
  },
  {
   "cell_type": "code",
   "execution_count": null,
   "id": "7accfa4a-813f-478c-852a-f77820bd482c",
   "metadata": {
    "tags": []
   },
   "outputs": [],
   "source": [
    "model.evaluate(x_test_noisy, x_test)"
   ]
  },
  {
   "cell_type": "code",
   "execution_count": null,
   "id": "7c7f1cae-0f44-444a-9a77-62c1e1be4c04",
   "metadata": {
    "tags": []
   },
   "outputs": [],
   "source": [
    "no_noise_img = model.predict(x_test_noisy)"
   ]
  },
  {
   "cell_type": "code",
   "execution_count": null,
   "id": "e2677012-6360-413d-a635-aaa197b00522",
   "metadata": {
    "tags": []
   },
   "outputs": [],
   "source": [
    "plt.figure(figsize=(40, 4))\n",
    "for i in range(10):\n",
    "    # display original\n",
    "    ax = plt.subplot(3, 20, i + 1)\n",
    "    plt.imshow(x_test_noisy[i].reshape(28, 28), cmap=\"binary\")\n",
    "    \n",
    "    # display reconstructed (after noise removed) image\n",
    "    ax = plt.subplot(3, 20, 40 +i+ 1)\n",
    "    plt.imshow(no_noise_img[i].reshape(28, 28), cmap=\"binary\")\n",
    "\n",
    "plt.show()"
   ]
  },
  {
   "cell_type": "code",
   "execution_count": null,
   "id": "24948dc5-b111-4062-9d62-de6360a899ae",
   "metadata": {},
   "outputs": [],
   "source": []
  }
 ],
 "metadata": {
  "environment": {
   "kernel": "conda-root-py",
   "name": "workbench-notebooks.m128",
   "type": "gcloud",
   "uri": "us-docker.pkg.dev/deeplearning-platform-release/gcr.io/workbench-notebooks:m128"
  },
  "kernelspec": {
   "display_name": "Python 3 (ipykernel) (Local)",
   "language": "python",
   "name": "conda-root-py"
  },
  "language_info": {
   "codemirror_mode": {
    "name": "ipython",
    "version": 3
   },
   "file_extension": ".py",
   "mimetype": "text/x-python",
   "name": "python",
   "nbconvert_exporter": "python",
   "pygments_lexer": "ipython3",
   "version": "3.10.14"
  }
 },
 "nbformat": 4,
 "nbformat_minor": 5
}
