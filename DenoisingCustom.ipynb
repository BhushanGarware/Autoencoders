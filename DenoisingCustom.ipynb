{
 "cells": [
  {
   "cell_type": "markdown",
   "id": "7ec634bf-359d-4308-92ec-abade4172dd3",
   "metadata": {},
   "source": [
    "# Image Denoising \n",
    "Dataset: [Realworld Occulated Faces(ROF)](https://github.com/ekremerakin/RealWorldOccludedFaces). Notebook adapted from Sreenivas Bhattiprolu, [Python for Microscopists](https://github.com/bnsreenu/python_for_microscopists)"
   ]
  },
  {
   "cell_type": "markdown",
   "id": "c26d3df2-c001-4123-aec5-c0ac96b46cc8",
   "metadata": {},
   "source": [
    "### Imports"
   ]
  },
  {
   "cell_type": "code",
   "execution_count": null,
   "id": "24b7ada4-9615-42f1-908c-2ca3f0a11157",
   "metadata": {},
   "outputs": [],
   "source": [
    "from tensorflow.keras.layers import Conv2D, MaxPooling2D, UpSampling2D\n",
    "from tensorflow.keras.models import Sequential\n",
    "import numpy as np\n",
    "import matplotlib.pyplot as plt\n",
    "import os\n",
    "import cv2\n",
    "from keras.preprocessing.image import img_to_array"
   ]
  },
  {
   "cell_type": "code",
   "execution_count": null,
   "id": "66a1ac60-9b96-40f2-a9e7-1e588bf3d7c7",
   "metadata": {
    "tags": []
   },
   "outputs": [],
   "source": [
    "# x is noisy data and y is clean data\n",
    "SIZE = 320"
   ]
  },
  {
   "cell_type": "markdown",
   "id": "6b5724b4-24ea-4225-a66f-673defbb0de6",
   "metadata": {},
   "source": [
    "## Load Data"
   ]
  },
  {
   "cell_type": "code",
   "execution_count": null,
   "id": "2e0e1c1d-b4e8-4124-83f9-20b0d108dd94",
   "metadata": {
    "tags": []
   },
   "outputs": [],
   "source": [
    "from tqdm import tqdm\n",
    "noisy_data=[]\n",
    "path1 = './Data/noisy_images/'\n",
    "files=os.listdir(path1)\n",
    "for i in tqdm(files):\n",
    "    img=cv2.imread(path1+'/'+i,0)   #Change 0 to 1 for color images\n",
    "    img=cv2.resize(img,(SIZE, SIZE))\n",
    "    noisy_data.append(img_to_array(img))"
   ]
  },
  {
   "cell_type": "code",
   "execution_count": null,
   "id": "fdb2e346-df45-4352-9432-43371e27d5cd",
   "metadata": {
    "tags": []
   },
   "outputs": [],
   "source": [
    "clean_data=[]\n",
    "path2 = './Data/clean_images/'\n",
    "files=os.listdir(path2)\n",
    "for i in tqdm(files):\n",
    "    img=cv2.imread(path2+'/'+i,0)  #Change 0 to 1 for color images\n",
    "    img=cv2.resize(img,(SIZE, SIZE))\n",
    "    clean_data.append(img_to_array(img))"
   ]
  },
  {
   "cell_type": "code",
   "execution_count": null,
   "id": "6afeeb4b-7193-4b5d-8caf-c6fe77f9319b",
   "metadata": {
    "tags": []
   },
   "outputs": [],
   "source": [
    "noisy_train = np.reshape(noisy_data, (len(noisy_data), SIZE, SIZE, 1))\n",
    "noisy_train = noisy_train.astype('float32') / 255.\n",
    "\n",
    "clean_train = np.reshape(clean_data, (len(clean_data), SIZE, SIZE, 1))\n",
    "clean_train = clean_train.astype('float32') / 255."
   ]
  },
  {
   "cell_type": "code",
   "execution_count": null,
   "id": "7aa09d07-bb15-4fd7-823e-408fd675acc9",
   "metadata": {
    "tags": []
   },
   "outputs": [],
   "source": [
    "#Displaying images with noise\n",
    "plt.figure(figsize=(10, 2))\n",
    "for i in range(1,4):\n",
    "    ax = plt.subplot(1, 4, i)\n",
    "    plt.imshow(noisy_train[i].reshape(SIZE, SIZE), cmap=\"gray\")\n",
    "plt.show()\n",
    "\n",
    "#Displaying clean images\n",
    "plt.figure(figsize=(10, 2))\n",
    "for i in range(1,4):\n",
    "    ax = plt.subplot(1, 4, i)\n",
    "    plt.imshow(clean_train[i].reshape(SIZE, SIZE), cmap=\"gray\")\n",
    "plt.show()"
   ]
  },
  {
   "cell_type": "markdown",
   "id": "588e86f7-978e-41b2-86e1-fb9677c69071",
   "metadata": {},
   "source": [
    "## Define Model"
   ]
  },
  {
   "cell_type": "code",
   "execution_count": null,
   "id": "1edf8c03-05aa-42f8-8434-3e25ea407521",
   "metadata": {
    "tags": []
   },
   "outputs": [],
   "source": [
    "model = Sequential()\n",
    "model.add(Conv2D(32, (3, 3), activation='relu', padding='same', input_shape=(SIZE, SIZE, 1)))\n",
    "model.add(MaxPooling2D((2, 2), padding='same'))\n",
    "model.add(Conv2D(8, (3, 3), activation='relu', padding='same'))\n",
    "model.add(MaxPooling2D((2, 2), padding='same'))\n",
    "model.add(Conv2D(8, (3, 3), activation='relu', padding='same'))\n",
    " \n",
    "\n",
    "model.add(MaxPooling2D((2, 2), padding='same'))\n",
    "     \n",
    "model.add(Conv2D(8, (3, 3), activation='relu', padding='same'))\n",
    "model.add(UpSampling2D((2, 2)))\n",
    "model.add(Conv2D(8, (3, 3), activation='relu', padding='same'))\n",
    "model.add(UpSampling2D((2, 2)))\n",
    "model.add(Conv2D(32, (3, 3), activation='relu', padding='same'))\n",
    "model.add(UpSampling2D((2, 2)))\n",
    "model.add(Conv2D(1, (3, 3), activation='relu', padding='same'))\n"
   ]
  },
  {
   "cell_type": "code",
   "execution_count": null,
   "id": "27efa71d-507f-4bd1-9ea4-eb30558159c3",
   "metadata": {
    "tags": []
   },
   "outputs": [],
   "source": [
    "model.compile(optimizer='adam', loss='mean_squared_error', metrics=['accuracy'])\n",
    "model.summary()"
   ]
  },
  {
   "cell_type": "markdown",
   "id": "868c06a6-9a17-492e-8e70-6922bf4cb65e",
   "metadata": {},
   "source": [
    "## Train Model"
   ]
  },
  {
   "cell_type": "code",
   "execution_count": null,
   "id": "8d790424-ec09-4810-890b-2dd0269a8f0e",
   "metadata": {
    "tags": []
   },
   "outputs": [],
   "source": [
    "from sklearn.model_selection import train_test_split\n",
    "x_train, x_test, y_train, y_test = train_test_split(noisy_train, clean_train, test_size = 0.20, random_state = 0)"
   ]
  },
  {
   "cell_type": "code",
   "execution_count": null,
   "id": "4d71c813-afee-4c7f-8c84-079d9b12dbe5",
   "metadata": {
    "tags": []
   },
   "outputs": [],
   "source": [
    "model.fit(x_train, y_train, epochs=10, batch_size=8, shuffle=True, verbose = 1,validation_split = 0.1)"
   ]
  },
  {
   "cell_type": "markdown",
   "id": "9dd02064-d5aa-4a30-81fd-1645913cb948",
   "metadata": {},
   "source": [
    "## Save the model locally"
   ]
  },
  {
   "cell_type": "code",
   "execution_count": null,
   "id": "f02cdae4-8d33-4998-9c48-f2c0084ef9a7",
   "metadata": {
    "tags": []
   },
   "outputs": [],
   "source": [
    "print(\"Test_Accuracy: {:.2f}%\".format(model.evaluate(np.array(x_test), np.array(y_test))[1]*100))\n",
    "model.save('denoising_autoencoder.h5')"
   ]
  },
  {
   "cell_type": "markdown",
   "id": "2984f8c5-6990-464c-854b-4a3130888c80",
   "metadata": {},
   "source": [
    "## Make Predictions"
   ]
  },
  {
   "cell_type": "code",
   "execution_count": null,
   "id": "ab9ebbbd-dbab-4c44-8599-0a61c0bd3060",
   "metadata": {
    "tags": []
   },
   "outputs": [],
   "source": [
    "no_noise_img = model.predict(x_test)"
   ]
  },
  {
   "cell_type": "code",
   "execution_count": null,
   "id": "5f9493a6-cbc0-4d2c-8a3f-73ca99e8dbd2",
   "metadata": {
    "tags": []
   },
   "outputs": [],
   "source": [
    "plt.imshow(no_noise_img[i].reshape(SIZE,SIZE), cmap=\"gray\")"
   ]
  },
  {
   "cell_type": "markdown",
   "id": "f9695c60-c758-4fc3-9548-d629a9cd0eee",
   "metadata": {},
   "source": [
    "## Explore Easier Datasets"
   ]
  },
  {
   "cell_type": "markdown",
   "id": "e5132e6f-d2d4-4b5a-81b1-f47bed5b3cb7",
   "metadata": {},
   "source": [
    "[Image Denoising Dataset](https://varundagar.github.io/Image-Denoising/)"
   ]
  },
  {
   "cell_type": "code",
   "execution_count": null,
   "id": "b52565fe-07b1-4de9-8eb1-3a7bd9124094",
   "metadata": {},
   "outputs": [],
   "source": []
  }
 ],
 "metadata": {
  "environment": {
   "kernel": "conda-base-py",
   "name": "workbench-notebooks.m128",
   "type": "gcloud",
   "uri": "us-docker.pkg.dev/deeplearning-platform-release/gcr.io/workbench-notebooks:m128"
  },
  "kernelspec": {
   "display_name": "Python 3 (ipykernel) (Local)",
   "language": "python",
   "name": "conda-base-py"
  },
  "language_info": {
   "codemirror_mode": {
    "name": "ipython",
    "version": 3
   },
   "file_extension": ".py",
   "mimetype": "text/x-python",
   "name": "python",
   "nbconvert_exporter": "python",
   "pygments_lexer": "ipython3",
   "version": "3.10.16"
  }
 },
 "nbformat": 4,
 "nbformat_minor": 5
}
