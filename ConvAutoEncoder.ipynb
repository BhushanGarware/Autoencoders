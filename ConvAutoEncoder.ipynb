{
 "cells": [
  {
   "cell_type": "markdown",
   "id": "e1f29555-8bbb-464b-bc27-cbd8638ccf01",
   "metadata": {
    "tags": []
   },
   "source": [
    "# Convolutional Autoencoder \n",
    "Notebook adapted from Sreenivas Bhattiprolu, [Python for Microscopists](https://github.com/bnsreenu/python_for_microscopists)"
   ]
  },
  {
   "cell_type": "code",
   "execution_count": null,
   "id": "bcaafc6d-1f8d-4b21-a5f6-0cb0f1aaf784",
   "metadata": {
    "tags": []
   },
   "outputs": [],
   "source": [
    "from matplotlib.pyplot import imshow\n",
    "import numpy as np\n",
    "import cv2\n",
    "from tensorflow.keras.preprocessing.image import img_to_array\n",
    "from tensorflow.keras.layers import Conv2D, MaxPooling2D, UpSampling2D\n",
    "from tensorflow.keras.models import Sequential\n",
    "import tensorflow as tf #verify installation.\n",
    "print(tf.__version__)"
   ]
  },
  {
   "cell_type": "code",
   "execution_count": null,
   "id": "d5c35133-d305-490f-9827-009b0592d8d7",
   "metadata": {
    "tags": []
   },
   "outputs": [],
   "source": [
    "np.random.seed(42)\n",
    "\n",
    "SIZE=256\n",
    "img_data=[]"
   ]
  },
  {
   "cell_type": "markdown",
   "id": "ce2c8fa5-f372-40e4-b452-876403bf9644",
   "metadata": {},
   "source": [
    "## Load a sample Image"
   ]
  },
  {
   "cell_type": "code",
   "execution_count": null,
   "id": "8837a7be-b1d6-4bc4-bd28-056f4027656d",
   "metadata": {
    "tags": []
   },
   "outputs": [],
   "source": [
    "img=cv2.imread('Data/Lena.png', 1)   #Change 1 to 0 for grey images\n",
    "img = cv2.cvtColor(img, cv2.COLOR_BGR2RGB) #Changing BGR to RGB to show images in true colors\n",
    "imshow(img)"
   ]
  },
  {
   "cell_type": "code",
   "execution_count": null,
   "id": "d8882b59-fc09-4247-91ed-e72ed0b41c24",
   "metadata": {
    "tags": []
   },
   "outputs": [],
   "source": [
    "img=cv2.resize(img,(SIZE, SIZE))\n",
    "img_data.append(img_to_array(img))"
   ]
  },
  {
   "cell_type": "code",
   "execution_count": null,
   "id": "1bd988b2-2a88-4710-89a5-3471dc6c69a8",
   "metadata": {
    "tags": []
   },
   "outputs": [],
   "source": [
    "img_array = np.reshape(img_data, (len(img_data), SIZE, SIZE, 3))\n",
    "img_array = img_array.astype('float32') / 255"
   ]
  },
  {
   "cell_type": "code",
   "execution_count": null,
   "id": "10224f06-016b-4eef-bc96-4fb46c713b93",
   "metadata": {
    "tags": []
   },
   "outputs": [],
   "source": [
    "img_array.shape"
   ]
  },
  {
   "cell_type": "markdown",
   "id": "4d6b691e-85ed-432d-bd43-5b14b898c7dc",
   "metadata": {},
   "source": [
    "# Define Model"
   ]
  },
  {
   "cell_type": "code",
   "execution_count": null,
   "id": "9f2e4e1e-396a-46c8-ab46-502a0be480fe",
   "metadata": {
    "tags": []
   },
   "outputs": [],
   "source": [
    "model = Sequential()\n",
    "model.add(Conv2D(32, (3, 3), activation='relu', padding='same', input_shape=(SIZE, SIZE, 3)))\n",
    "model.add(MaxPooling2D((2, 2), padding='same'))\n",
    "model.add(Conv2D(8, (3, 3), activation='relu', padding='same'))\n",
    "model.add(MaxPooling2D((2, 2), padding='same'))\n",
    "model.add(Conv2D(8, (3, 3), activation='relu', padding='same'))\n",
    " \n",
    "\n",
    "model.add(MaxPooling2D((2, 2), padding='same'))\n",
    "     \n",
    "model.add(Conv2D(8, (3, 3), activation='relu', padding='same'))\n",
    "model.add(UpSampling2D((2, 2)))\n",
    "model.add(Conv2D(8, (3, 3), activation='relu', padding='same'))\n",
    "model.add(UpSampling2D((2, 2)))\n",
    "model.add(Conv2D(32, (3, 3), activation='relu', padding='same'))\n",
    "model.add(UpSampling2D((2, 2)))\n",
    "model.add(Conv2D(3, (3, 3), activation='relu', padding='same'))\n",
    "\n",
    "model.compile(optimizer='adam', loss='mean_squared_error', metrics=['accuracy'])\n",
    "model.summary()"
   ]
  },
  {
   "cell_type": "markdown",
   "id": "c1b38e0f-4bad-410b-b939-02d6a342dc05",
   "metadata": {},
   "source": [
    "# Train Model"
   ]
  },
  {
   "cell_type": "code",
   "execution_count": null,
   "id": "b853ea17-302c-4201-b2b3-2f4cd9ecca5d",
   "metadata": {
    "tags": []
   },
   "outputs": [],
   "source": [
    "model.fit(img_array, img_array,epochs=500,shuffle=True,verbose=False)"
   ]
  },
  {
   "cell_type": "code",
   "execution_count": null,
   "id": "8ec3e655-2518-439a-8f4f-39a53135430d",
   "metadata": {
    "tags": []
   },
   "outputs": [],
   "source": [
    "print(\"Neural network output\")\n",
    "pred = model.predict(img_array)"
   ]
  },
  {
   "cell_type": "code",
   "execution_count": null,
   "id": "8b2343a8-6981-4797-9b57-f94dbba1a52c",
   "metadata": {
    "tags": []
   },
   "outputs": [],
   "source": [
    "imshow(pred[0].reshape(SIZE,SIZE,3), cmap=\"gray\")"
   ]
  },
  {
   "cell_type": "code",
   "execution_count": null,
   "id": "6f56bb8d-8c49-459d-9556-2011d3710599",
   "metadata": {},
   "outputs": [],
   "source": []
  }
 ],
 "metadata": {
  "environment": {
   "kernel": "conda-base-py",
   "name": "workbench-notebooks.m128",
   "type": "gcloud",
   "uri": "us-docker.pkg.dev/deeplearning-platform-release/gcr.io/workbench-notebooks:m128"
  },
  "kernelspec": {
   "display_name": "Python 3 (ipykernel) (Local)",
   "language": "python",
   "name": "conda-base-py"
  },
  "language_info": {
   "codemirror_mode": {
    "name": "ipython",
    "version": 3
   },
   "file_extension": ".py",
   "mimetype": "text/x-python",
   "name": "python",
   "nbconvert_exporter": "python",
   "pygments_lexer": "ipython3",
   "version": "3.10.16"
  }
 },
 "nbformat": 4,
 "nbformat_minor": 5
}
